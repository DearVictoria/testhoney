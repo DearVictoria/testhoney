{
  "metadata": {
    "language_info": {
      "codemirror_mode": {
        "name": "python",
        "version": 3
      },
      "file_extension": ".py",
      "mimetype": "text/x-python",
      "name": "python",
      "nbconvert_exporter": "python",
      "pygments_lexer": "ipython3",
      "version": "3.8"
    },
    "kernelspec": {
      "name": "python",
      "display_name": "Pyolite",
      "language": "python"
    }
  },
  "nbformat_minor": 4,
  "nbformat": 4,
  "cells": [
    {
      "cell_type": "markdown",
      "source": "# H1 My Jupyter Notebook",
      "metadata": {
        "tags": []
      }
    },
    {
      "cell_type": "markdown",
      "source": "**Victoria**\n\"Honey liker\"",
      "metadata": {}
    },
    {
      "cell_type": "markdown",
      "source": "*I am intrested in data science because I have desire to reserch how can work data for life.",
      "metadata": {}
    },
    {
      "cell_type": "markdown",
      "source": "### H3 In cell 5 my code I will show how to write and run code for numbers six and one",
      "metadata": {}
    },
    {
      "cell_type": "code",
      "source": "six=6\none=1\nprint (six+one)\n",
      "metadata": {
        "trusted": true
      },
      "execution_count": 24,
      "outputs": [
        {
          "name": "stdout",
          "text": "7\n",
          "output_type": "stream"
        }
      ]
    },
    {
      "cell_type": "markdown",
      "source": "I'm an github link (https://github.com/DearVictoria)\n\n[logo]:https://github.com/DearVictoria/honey.git\n\n \n\n\n\n\n\n\n",
      "metadata": {}
    },
    {
      "cell_type": "markdown",
      "source": " *Luna*\n *Tuna*\n *Fortuna*",
      "metadata": {}
    },
    {
      "cell_type": "markdown",
      "source": "1. Luna \n2. Tuna \n3. Fortuna",
      "metadata": {}
    },
    {
      "cell_type": "markdown",
      "source": "NUMBERS|COUNTRIES|COLOR of HONEY \n---|---------|-------\n*10*|`Italy`|**yellow**\n*17*|`France`|**gold**\n*23*|`Germany`|**black**\n*10*|`Australia`|**dark**\n",
      "metadata": {}
    },
    {
      "cell_type": "markdown",
      "source": "",
      "metadata": {}
    }
  ]
}